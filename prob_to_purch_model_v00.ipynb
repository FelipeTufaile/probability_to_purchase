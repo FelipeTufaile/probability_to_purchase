{
 "cells": [
  {
   "cell_type": "code",
   "execution_count": 15,
   "metadata": {},
   "outputs": [],
   "source": [
    "# Importing pandas library\n",
    "import pandas as pd\n",
    "\n",
    "# Importing datetime library\n",
    "from datetime import datetime, timedelta, date"
   ]
  },
  {
   "cell_type": "markdown",
   "metadata": {},
   "source": [
    "##### Reference\n",
    "\n",
    "    Model:\n",
    "    - https://towardsdatascience.com/predicting-next-purchase-day-15fae5548027\n",
    "\n",
    "    Dataset:\n",
    "    - https://www.kaggle.com/datasets/vijayuv/onlineretail"
   ]
  },
  {
   "cell_type": "code",
   "execution_count": 10,
   "metadata": {},
   "outputs": [],
   "source": [
    "## Reading dataset\n",
    "df_raw = pd.read_csv('OnlineRetail.csv', header=0, encoding='unicode_escape')  "
   ]
  },
  {
   "cell_type": "code",
   "execution_count": 12,
   "metadata": {},
   "outputs": [],
   "source": [
    "# Convert \"InvoiceDate\" from string to datetime\n",
    "df_raw['InvoiceDate'] = pd.to_datetime(df_raw['InvoiceDate'])"
   ]
  },
  {
   "cell_type": "code",
   "execution_count": 17,
   "metadata": {},
   "outputs": [],
   "source": [
    "# Select only UK data\n",
    "df_uk = df_raw.query(\"Country=='United Kingdom'\").drop(columns=['Country'], axis=0).reset_index(drop=True)"
   ]
  },
  {
   "cell_type": "code",
   "execution_count": 23,
   "metadata": {},
   "outputs": [],
   "source": [
    "# Selecting purchases before the cut-off date\n",
    "df_uk_6m = df_uk[(df_uk['InvoiceDate'] <  datetime(2011,9,1)) & (df_uk['InvoiceDate'] >= datetime(2011, 3,1))].reset_index(drop=True)\n",
    "\n",
    "# Selecting purchases after the cut-off date \n",
    "df_uk_nxt = df_uk[(df_uk['InvoiceDate'] >= datetime(2011,9,1)) & (df_uk['InvoiceDate']  < datetime(2011,12,1))].reset_index(drop=True)"
   ]
  },
  {
   "cell_type": "code",
   "execution_count": 21,
   "metadata": {},
   "outputs": [],
   "source": [
    "# Selecting distinct users\n",
    "df_uk_users = df_uk[['CustomerID']].drop_duplicates()"
   ]
  },
  {
   "cell_type": "code",
   "execution_count": 33,
   "metadata": {},
   "outputs": [],
   "source": [
    "# Using the table df_uk_nx to calculate the number of days until the next purchase\n",
    "from pyparsing import col\n",
    "\n",
    "\n",
    "df_nxt_purch = df_uk_nxt[['CustomerID', 'InvoiceDate']]\\\n",
    "                .groupby(['CustomerID']).min()\\\n",
    "                .reset_index()\\\n",
    "                .rename(columns={'InvoiceDate':'NextPurchaseDate'})\n",
    "\n",
    "# Using the table df_uk_6m to calculate the last purchase date\n",
    "df_lst_purch = df_uk_6m[['CustomerID', 'InvoiceDate']]\\\n",
    "                .groupby(['CustomerID']).max()\\\n",
    "                .reset_index()\\\n",
    "                .rename(columns={'InvoiceDate':'LastPurchaseDate'})\n",
    "\n",
    "# Merging purchase dates\n",
    "df_purch_dt = df_uk_users\\\n",
    "                .merge(df_nxt_purch, how='left', on=['CustomerID'])\\\n",
    "                .merge(df_lst_purch, how='left', on=['CustomerID'])\n",
    "\n",
    "# Calculate the time difference from the last purchase to the next purchase in days\n",
    "df_purch_dt['DayUntilNextPurchase'] = (df_purch_dt['NextPurchaseDate'] - df_purch_dt['LastPurchaseDate']).dt.days\n",
    "\n",
    "# Drop spare columns\n",
    "df_purch_dt = df_purch_dt.drop(columns=['NextPurchaseDate', 'LastPurchaseDate'], axis=0)\n",
    "\n",
    "# Fill missing values with 9999\n",
    "df_purch_dt['DayUntilNextPurchase'] = df_purch_dt['DayUntilNextPurchase'].fillna(9999)"
   ]
  },
  {
   "cell_type": "code",
   "execution_count": null,
   "metadata": {},
   "outputs": [],
   "source": []
  }
 ],
 "metadata": {
  "kernelspec": {
   "display_name": "Python 3.9.12 ('base')",
   "language": "python",
   "name": "python3"
  },
  "language_info": {
   "codemirror_mode": {
    "name": "ipython",
    "version": 3
   },
   "file_extension": ".py",
   "mimetype": "text/x-python",
   "name": "python",
   "nbconvert_exporter": "python",
   "pygments_lexer": "ipython3",
   "version": "3.9.12"
  },
  "orig_nbformat": 4,
  "vscode": {
   "interpreter": {
    "hash": "fd3a8947c62d370558ed769cf559e4fa5ae3b5a6e2c1981adae94ae7a543138f"
   }
  }
 },
 "nbformat": 4,
 "nbformat_minor": 2
}
